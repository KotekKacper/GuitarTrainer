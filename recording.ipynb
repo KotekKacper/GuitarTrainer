{
 "cells": [
  {
   "cell_type": "code",
   "execution_count": 1,
   "id": "efe1567c-a684-4720-87ee-9bc944bdd785",
   "metadata": {},
   "outputs": [],
   "source": [
    "import IPython.display as ipd\n",
    "\n",
    "import GuitarTrainer as gt\n",
    "\n",
    "fname = \"recording.txt\""
   ]
  },
  {
   "cell_type": "markdown",
   "id": "b6b6ca44",
   "metadata": {},
   "source": [
    "## Recording"
   ]
  },
  {
   "cell_type": "code",
   "execution_count": 2,
   "id": "ee17de3e",
   "metadata": {},
   "outputs": [
    {
     "name": "stdout",
     "output_type": "stream",
     "text": [
      "Error: couldn't connect to arduino\n"
     ]
    }
   ],
   "source": [
    "gt.readingSerialDataToFile(\"recorded/\"+fname)"
   ]
  },
  {
   "cell_type": "markdown",
   "id": "201354aa",
   "metadata": {},
   "source": [
    "## Quick look"
   ]
  },
  {
   "cell_type": "code",
   "execution_count": null,
   "id": "a9d34a01",
   "metadata": {},
   "outputs": [],
   "source": [
    "data = gt.readFile(\"recorded/\"+fname)\n",
    "gt.plotRecording(data)\n",
    "ipd.Audio(data, rate=2500)"
   ]
  }
 ],
 "metadata": {
  "kernelspec": {
   "display_name": "Python 3.10.8 64-bit",
   "language": "python",
   "name": "python3"
  },
  "language_info": {
   "codemirror_mode": {
    "name": "ipython",
    "version": 3
   },
   "file_extension": ".py",
   "mimetype": "text/x-python",
   "name": "python",
   "nbconvert_exporter": "python",
   "pygments_lexer": "ipython3",
   "version": "3.10.8"
  },
  "vscode": {
   "interpreter": {
    "hash": "e7370f93d1d0cde622a1f8e1c04877d8463912d04d973331ad4851f04de6915a"
   }
  }
 },
 "nbformat": 4,
 "nbformat_minor": 5
}
