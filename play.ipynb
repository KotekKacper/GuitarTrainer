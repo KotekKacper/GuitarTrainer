{
 "cells": [
  {
   "cell_type": "code",
   "execution_count": null,
   "id": "efe1567c-a684-4720-87ee-9bc944bdd785",
   "metadata": {},
   "outputs": [],
   "source": [
    "import matplotlib.pyplot as plt\n",
    "import IPython.display as ipd\n",
    "\n",
    "def choose_interval(data, s=0, e=-1):\n",
    "    return data[s:e]\n",
    "\n",
    "inter_start = 0      # anything usefull from 3000\n",
    "inter_end = -1       # max 52806 (-1)\n",
    "\n",
    "file = open(\"data.txt\", 'r')\n",
    "data = {'x': list(), 'y': list()}\n",
    "for line in file:\n",
    "    y= line.rstrip()\n",
    "    data['y'].append(float(y))\n",
    "\n",
    "plt.plot(choose_interval(data['y'], inter_start, inter_end))\n",
    "plt.show()\n",
    "ipd.Audio(choose_interval(data['y'], inter_start, inter_end), rate=2500)"
   ]
  }
 ],
 "metadata": {
  "kernelspec": {
   "display_name": "Python 3 (ipykernel)",
   "language": "python",
   "name": "python3"
  },
  "language_info": {
   "codemirror_mode": {
    "name": "ipython",
    "version": 3
   },
   "file_extension": ".py",
   "mimetype": "text/x-python",
   "name": "python",
   "nbconvert_exporter": "python",
   "pygments_lexer": "ipython3",
   "version": "3.10.8"
  }
 },
 "nbformat": 4,
 "nbformat_minor": 5
}
